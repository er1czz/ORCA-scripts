{
 "cells": [
  {
   "cell_type": "markdown",
   "id": "c4f21520-03dd-4bef-bf86-d4b8baaca628",
   "metadata": {},
   "source": [
    "# Note on DFT geometry optimization\n",
    "```from SMILES to ORCA input and visualization```"
   ]
  },
  {
   "cell_type": "markdown",
   "id": "c8c243a3-81cb-471d-be25-5d34b6614dab",
   "metadata": {},
   "source": [
    "## Part 1 from SMILES to orca.inp"
   ]
  },
  {
   "cell_type": "code",
   "execution_count": 1,
   "id": "62475cbe-1d70-41a7-9cf8-8f2c4977846b",
   "metadata": {},
   "outputs": [],
   "source": [
    "from rdkit import Chem\n",
    "from rdkit.Chem import AllChem\n",
    "\n",
    "header = f\"\"\"! Opt r2SCAN-3c noautostart miniprint nopop PrintGap\n",
    "%elprop\n",
    "   Polar 1\n",
    "end\n",
    "%maxcore 3000\n",
    "%pal\n",
    "   nprocs 16\n",
    "end\n",
    "* xyz 0 1\"\"\"\n",
    "\n",
    "def get_canonical_smiles(smiles_string):\n",
    "    \"\"\"\n",
    "    Converts a given SMILES string to its canonical SMILES representation.\n",
    "    \"\"\"\n",
    "    mol = Chem.MolFromSmiles(smiles_string)\n",
    "    if mol is not None:\n",
    "        return Chem.MolToSmiles(mol, canonical=True)\n",
    "    else:\n",
    "        return None\n",
    "        \n",
    "def smiles2xyz(smiles_str):\n",
    "    mol = Chem.MolFromSmiles(smiles_str)\n",
    "    # Add hydrogen\n",
    "    mol = Chem.AddHs(mol) \n",
    "    # Generates 3D coordinates using the ETKDGv3 algorithm\n",
    "    AllChem.EmbedMolecule(mol, AllChem.ETKDGv3())\n",
    "    # Optimizes the geometry using the MMFF force field\n",
    "    AllChem.MMFFOptimizeMolecule(mol) \n",
    "    xyz_str = Chem.MolToXYZBlock(mol)\n",
    "    return xyz_str\n",
    "\n",
    "def xyz2orca(xyz_str):\n",
    "    \"\"\"\n",
    "    Convert xyz format string to orca input\n",
    "    \"\"\"\n",
    "    # keep string from line 3\n",
    "    coord_str = xyz_str.strip().split('\\n')[2:]\n",
    "    \n",
    "    orca_input = f\"\"\"{header}{'\\n'}{'\\n'.join(coord_str)}\"\"\"\n",
    "\n",
    "    return orca_input    \n",
    "\n",
    "def gen_orca(smiles_str):\n",
    "    \"\"\"\n",
    "    Generate the final orca.inp with canonical SMILES as a comment line.\n",
    "    \"\"\"\n",
    "    xyz_str = smiles2xyz(smiles_str)\n",
    "    orca_input = xyz2orca(xyz_str)\n",
    "    \n",
    "    smiles_c = get_canonical_smiles(smiles_str)\n",
    "    \n",
    "    # add smiles code as the 1st line\n",
    "    # add input content from the 2nd line\n",
    "    # add * to the end\n",
    "    orca_str = f\"\"\"{'# ' + smiles_c +'\\n'}{orca_input}{'\\n*'}\"\"\"\n",
    "    return orca_str, xyz_str\n",
    "\n",
    "def write_fn(smiles_str, orca_fname, xyz_fname):\n",
    "    \"\"\"\n",
    "    Convert smiles to xyz file and orca input file with given names, respectively.\n",
    "    \"\"\"\n",
    "    _orca, _xyz = gen_orca(smiles_str)\n",
    "\n",
    "    with open(orca_fname, 'w') as f:\n",
    "        f.write(_orca)\n",
    "    with open(xyz_fname, 'w') as f:\n",
    "        f.write(_xyz)\n",
    "        \n",
    "    #print('Done! Saved as ' + output_name)"
   ]
  },
  {
   "cell_type": "code",
   "execution_count": 2,
   "id": "d6d86acd-86c5-4d61-9d63-639651c56761",
   "metadata": {},
   "outputs": [],
   "source": [
    "smiles = 'CCCC1=CC=C(C=C1)C#CC1=CC(F)=CC(F)=C1'\n",
    "write_fn(smiles, 'test.inp', 'test.xyz')"
   ]
  },
  {
   "cell_type": "code",
   "execution_count": 3,
   "id": "f1ca8500-1705-4668-b66d-ea8a083f47e4",
   "metadata": {},
   "outputs": [
    {
     "data": {
      "image/jpeg": "[encoded data removed]",
      "image/png": "[encoded data removed]",
      "text/plain": [
       "<PIL.PngImagePlugin.PngImageFile image mode=RGB size=300x300>"
      ]
     },
     "execution_count": 3,
     "metadata": {},
     "output_type": "execute_result"
    }
   ],
   "source": [
    "mol = Chem.MolFromSmiles(smiles)\n",
    "Chem.Draw.MolToImage(mol)"
   ]
  },
  {
   "cell_type": "markdown",
   "id": "6d46cd64-ab3d-48a6-89c8-e51ae6da4a75",
   "metadata": {},
   "source": [
    "## Part 2: Visualize XYZ file with index number as atom label"
   ]
  },
  {
   "cell_type": "code",
   "execution_count": 4,
   "id": "7f9ecd8b-adb8-44ac-84cd-8c7e21c7b46a",
   "metadata": {},
   "outputs": [],
   "source": [
    "from rdkit import Chem\n",
    "import rdkit.Chem.rdDetermineBonds as rDB\n",
    "import py3Dmol\n",
    "\n",
    "def xyz_view(xyz_file):\n",
    "    # read xyz file (dots only)\n",
    "    mol = Chem.MolFromXYZFile(xyz_file)\n",
    "    # determine bond connections\n",
    "    rDB.DetermineBonds(mol)\n",
    "    \n",
    "    view = py3Dmol.view(width=800, height=400)\n",
    "    view.addModel(Chem.MolToMolBlock(mol), 'mol')\n",
    "    \n",
    "    for atom in mol.GetAtoms():\n",
    "        idx = atom.GetIdx()\n",
    "        pos = mol.GetConformer().GetAtomPosition(idx)\n",
    "        \n",
    "        view.addLabel(\n",
    "            str(idx+1),  # The label text (atom index)\n",
    "            {\n",
    "                'position': {'x': pos.x, 'y': pos.y, 'z': pos.z},\n",
    "                'backgroundColor': 'black',\n",
    "                'fontColor': 'white',\n",
    "                'fontSize': 13,\n",
    "                'showBackground': True,\n",
    "                'fontOpacity': 1\n",
    "            }\n",
    "        )\n",
    "    \n",
    "    view.setStyle({'stick': {}, 'sphere': {'scale': 0.3}}) # Customize visualization style\n",
    "    view.zoomTo()\n",
    "    view.show()"
   ]
  },
  {
   "cell_type": "code",
   "execution_count": 5,
   "id": "c9627a0c-975d-4e4b-bfa5-b4edcd8538bc",
   "metadata": {},
   "outputs": [
    {
     "data": {
      "application/3dmoljs_load.v0": "<div id=\"3dmolviewer_1758594227135595\"  style=\"position: relative; width: 800px; height: 400px;\">\n        <p id=\"3dmolwarning_1758594227135595\" style=\"background-color:#ffcccc;color:black\">3Dmol.js failed to load for some reason.  Please check your browser console for error messages.<br></p>\n        </div>\n<script>\n\nvar loadScriptAsync = function(uri){\n  return new Promise((resolve, reject) => {\n    //this is to ignore the existence of requirejs amd\n    var savedexports, savedmodule;\n    if (typeof exports !== 'undefined') savedexports = exports;\n    else exports = {}\n    if (typeof module !== 'undefined') savedmodule = module;\n    else module = {}\n\n    var tag = document.createElement('script');\n    tag.src = uri;\n    tag.async = true;\n    tag.onload = () => {\n        exports = savedexports;\n        module = savedmodule;\n        resolve();\n    };\n  var firstScriptTag = document.getElementsByTagName('script')[0];\n  firstScriptTag.parentNode.insertBefore(tag, firstScriptTag);\n});\n};\n\nif(typeof $3Dmolpromise === 'undefined') {\n$3Dmolpromise = null;\n  $3Dmolpromise = loadScriptAsync('https://cdn.jsdelivr.net/npm/3dmol@2.5.2/build/3Dmol-min.js');\n}\n\nvar viewer_1758594227135595 = null;\nvar warn = document.getElementById(\"3dmolwarning_1758594227135595\");\nif(warn) {\n    warn.parentNode.removeChild(warn);\n}\n$3Dmolpromise.then(function() {\nviewer_1758594227135595 = $3Dmol.createViewer(document.getElementById(\"3dmolviewer_1758594227135595\"),{backgroundColor:\"white\"});\nviewer_1758594227135595.zoomTo();\n\tviewer_1758594227135595.addModel(\"\\n     RDKit          3D\\n\\n 33 34  0  0  0  0  0  0  0  0999 V2000\\n    6.4253    0.3152   -0.3868 C   0  0  0  0  0  0  0  0  0  0  0  0\\n    4.9137    0.4778   -0.4011 C   0  0  0  0  0  0  0  0  0  0  0  0\\n    4.2141   -0.7548    0.1727 C   0  0  0  0  0  0  0  0  0  0  0  0\\n    2.7135   -0.5997    0.1614 C   0  0  0  0  0  0  0  0  0  0  0  0\\n    2.0507   -0.0242    1.2535 C   0  0  0  0  0  0  0  0  0  0  0  0\\n    0.6626    0.1344    1.2361 C   0  0  0  0  0  0  0  0  0  0  0  0\\n   -0.0748   -0.2765    0.1247 C   0  0  0  0  0  0  0  0  0  0  0  0\\n    0.5781   -0.8447   -0.9702 C   0  0  0  0  0  0  0  0  0  0  0  0\\n    1.9662   -1.0035   -0.9530 C   0  0  0  0  0  0  0  0  0  0  0  0\\n   -1.4956   -0.1135    0.1067 C   0  0  0  0  0  0  0  0  0  0  0  0\\n   -2.6890    0.0234    0.0917 C   0  0  0  0  0  0  0  0  0  0  0  0\\n   -4.1091    0.1864    0.0737 C   0  0  0  0  0  0  0  0  0  0  0  0\\n   -4.9360   -0.8299    0.5564 C   0  0  0  0  0  0  0  0  0  0  0  0\\n   -6.3174   -0.6584    0.5332 C   0  0  0  0  0  0  0  0  0  0  0  0\\n   -7.1084   -1.6348    0.9968 F   0  0  0  0  0  0  0  0  0  0  0  0\\n   -6.8897    0.5055    0.0386 C   0  0  0  0  0  0  0  0  0  0  0  0\\n   -6.0566    1.5081   -0.4382 C   0  0  0  0  0  0  0  0  0  0  0  0\\n   -6.5941    2.6369   -0.9186 F   0  0  0  0  0  0  0  0  0  0  0  0\\n   -4.6720    1.3622   -0.4265 C   0  0  0  0  0  0  0  0  0  0  0  0\\n    6.9064    1.2068   -0.8009 H   0  0  0  0  0  0  0  0  0  0  0  0\\n    6.7948    0.1728    0.6338 H   0  0  0  0  0  0  0  0  0  0  0  0\\n    6.7327   -0.5467   -0.9876 H   0  0  0  0  0  0  0  0  0  0  0  0\\n    4.6431    1.3695    0.1774 H   0  0  0  0  0  0  0  0  0  0  0  0\\n    4.5815    0.6557   -1.4312 H   0  0  0  0  0  0  0  0  0  0  0  0\\n    4.5531   -0.9386    1.2002 H   0  0  0  0  0  0  0  0  0  0  0  0\\n    4.4918   -1.6488   -0.4001 H   0  0  0  0  0  0  0  0  0  0  0  0\\n    2.6121    0.3052    2.1251 H   0  0  0  0  0  0  0  0  0  0  0  0\\n    0.1644    0.5811    2.0931 H   0  0  0  0  0  0  0  0  0  0  0  0\\n    0.0137   -1.1654   -1.8424 H   0  0  0  0  0  0  0  0  0  0  0  0\\n    2.4612   -1.4437   -1.8159 H   0  0  0  0  0  0  0  0  0  0  0  0\\n   -4.5212   -1.7533    0.9503 H   0  0  0  0  0  0  0  0  0  0  0  0\\n   -7.9660    0.6290    0.0250 H   0  0  0  0  0  0  0  0  0  0  0  0\\n   -4.0492    2.1665   -0.8073 H   0  0  0  0  0  0  0  0  0  0  0  0\\n  2  1  1  0\\n  3  2  1  0\\n  4  3  1  0\\n  5  4  2  0\\n  6  5  1  0\\n  7  6  2  0\\n  8  7  1  0\\n  9  8  2  0\\n  9  4  1  0\\n 10  7  1  0\\n 11 10  3  0\\n 12 11  1  0\\n 13 12  2  0\\n 14 13  1  0\\n 15 14  1  0\\n 16 14  2  0\\n 17 16  1  0\\n 18 17  1  0\\n 19 17  2  0\\n 19 12  1  0\\n 20  1  1  0\\n 21  1  1  0\\n 22  1  1  0\\n 23  2  1  0\\n 24  2  1  0\\n 25  3  1  0\\n 26  3  1  0\\n 27  5  1  0\\n 28  6  1  0\\n 29  8  1  0\\n 30  9  1  0\\n 31 13  1  0\\n 32 16  1  0\\n 33 19  1  0\\nM  END\\n\",\"mol\");\n\tviewer_1758594227135595.addLabel(\"1\",{\"position\": {\"x\": 6.425327, \"y\": 0.315181, \"z\": -0.386787}, \"backgroundColor\": \"black\", \"fontColor\": \"white\", \"fontSize\": 13, \"showBackground\": true, \"fontOpacity\": 1});\n\tviewer_1758594227135595.addLabel(\"2\",{\"position\": {\"x\": 4.913696, \"y\": 0.477847, \"z\": -0.401095}, \"backgroundColor\": \"black\", \"fontColor\": \"white\", \"fontSize\": 13, \"showBackground\": true, \"fontOpacity\": 1});\n\tviewer_1758594227135595.addLabel(\"3\",{\"position\": {\"x\": 4.214117, \"y\": -0.754788, \"z\": 0.172708}, \"backgroundColor\": \"black\", \"fontColor\": \"white\", \"fontSize\": 13, \"showBackground\": true, \"fontOpacity\": 1});\n\tviewer_1758594227135595.addLabel(\"4\",{\"position\": {\"x\": 2.713547, \"y\": -0.599731, \"z\": 0.161355}, \"backgroundColor\": \"black\", \"fontColor\": \"white\", \"fontSize\": 13, \"showBackground\": true, \"fontOpacity\": 1});\n\tviewer_1758594227135595.addLabel(\"5\",{\"position\": {\"x\": 2.050702, \"y\": -0.024229, \"z\": 1.253519}, \"backgroundColor\": \"black\", \"fontColor\": \"white\", \"fontSize\": 13, \"showBackground\": true, \"fontOpacity\": 1});\n\tviewer_1758594227135595.addLabel(\"6\",{\"position\": {\"x\": 0.662577, \"y\": 0.134441, \"z\": 1.236095}, \"backgroundColor\": \"black\", \"fontColor\": \"white\", \"fontSize\": 13, \"showBackground\": true, \"fontOpacity\": 1});\n\tviewer_1758594227135595.addLabel(\"7\",{\"position\": {\"x\": -0.074812, \"y\": -0.2765, \"z\": 0.124681}, \"backgroundColor\": \"black\", \"fontColor\": \"white\", \"fontSize\": 13, \"showBackground\": true, \"fontOpacity\": 1});\n\tviewer_1758594227135595.addLabel(\"8\",{\"position\": {\"x\": 0.578096, \"y\": -0.84466, \"z\": -0.970198}, \"backgroundColor\": \"black\", \"fontColor\": \"white\", \"fontSize\": 13, \"showBackground\": true, \"fontOpacity\": 1});\n\tviewer_1758594227135595.addLabel(\"9\",{\"position\": {\"x\": 1.96621, \"y\": -1.003451, \"z\": -0.953045}, \"backgroundColor\": \"black\", \"fontColor\": \"white\", \"fontSize\": 13, \"showBackground\": true, \"fontOpacity\": 1});\n\tviewer_1758594227135595.addLabel(\"10\",{\"position\": {\"x\": -1.495558, \"y\": -0.113503, \"z\": 0.106748}, \"backgroundColor\": \"black\", \"fontColor\": \"white\", \"fontSize\": 13, \"showBackground\": true, \"fontOpacity\": 1});\n\tviewer_1758594227135595.addLabel(\"11\",{\"position\": {\"x\": -2.688987, \"y\": 0.023436, \"z\": 0.091676}, \"backgroundColor\": \"black\", \"fontColor\": \"white\", \"fontSize\": 13, \"showBackground\": true, \"fontOpacity\": 1});\n\tviewer_1758594227135595.addLabel(\"12\",{\"position\": {\"x\": -4.10909, \"y\": 0.186392, \"z\": 0.073737}, \"backgroundColor\": \"black\", \"fontColor\": \"white\", \"fontSize\": 13, \"showBackground\": true, \"fontOpacity\": 1});\n\tviewer_1758594227135595.addLabel(\"13\",{\"position\": {\"x\": -4.935973, \"y\": -0.829935, \"z\": 0.556417}, \"backgroundColor\": \"black\", \"fontColor\": \"white\", \"fontSize\": 13, \"showBackground\": true, \"fontOpacity\": 1});\n\tviewer_1758594227135595.addLabel(\"14\",{\"position\": {\"x\": -6.317443, \"y\": -0.658395, \"z\": 0.53319}, \"backgroundColor\": \"black\", \"fontColor\": \"white\", \"fontSize\": 13, \"showBackground\": true, \"fontOpacity\": 1});\n\tviewer_1758594227135595.addLabel(\"15\",{\"position\": {\"x\": -7.108421, \"y\": -1.634768, \"z\": 0.99677}, \"backgroundColor\": \"black\", \"fontColor\": \"white\", \"fontSize\": 13, \"showBackground\": true, \"fontOpacity\": 1});\n\tviewer_1758594227135595.addLabel(\"16\",{\"position\": {\"x\": -6.889748, \"y\": 0.505472, \"z\": 0.03861}, \"backgroundColor\": \"black\", \"fontColor\": \"white\", \"fontSize\": 13, \"showBackground\": true, \"fontOpacity\": 1});\n\tviewer_1758594227135595.addLabel(\"17\",{\"position\": {\"x\": -6.056572, \"y\": 1.508059, \"z\": -0.438214}, \"backgroundColor\": \"black\", \"fontColor\": \"white\", \"fontSize\": 13, \"showBackground\": true, \"fontOpacity\": 1});\n\tviewer_1758594227135595.addLabel(\"18\",{\"position\": {\"x\": -6.594052, \"y\": 2.636876, \"z\": -0.918574}, \"backgroundColor\": \"black\", \"fontColor\": \"white\", \"fontSize\": 13, \"showBackground\": true, \"fontOpacity\": 1});\n\tviewer_1758594227135595.addLabel(\"19\",{\"position\": {\"x\": -4.672009, \"y\": 1.362198, \"z\": -0.426499}, \"backgroundColor\": \"black\", \"fontColor\": \"white\", \"fontSize\": 13, \"showBackground\": true, \"fontOpacity\": 1});\n\tviewer_1758594227135595.addLabel(\"20\",{\"position\": {\"x\": 6.906425, \"y\": 1.206796, \"z\": -0.800887}, \"backgroundColor\": \"black\", \"fontColor\": \"white\", \"fontSize\": 13, \"showBackground\": true, \"fontOpacity\": 1});\n\tviewer_1758594227135595.addLabel(\"21\",{\"position\": {\"x\": 6.794829, \"y\": 0.172808, \"z\": 0.633759}, \"backgroundColor\": \"black\", \"fontColor\": \"white\", \"fontSize\": 13, \"showBackground\": true, \"fontOpacity\": 1});\n\tviewer_1758594227135595.addLabel(\"22\",{\"position\": {\"x\": 6.732748, \"y\": -0.546707, \"z\": -0.987586}, \"backgroundColor\": \"black\", \"fontColor\": \"white\", \"fontSize\": 13, \"showBackground\": true, \"fontOpacity\": 1});\n\tviewer_1758594227135595.addLabel(\"23\",{\"position\": {\"x\": 4.643084, \"y\": 1.36954, \"z\": 0.17741}, \"backgroundColor\": \"black\", \"fontColor\": \"white\", \"fontSize\": 13, \"showBackground\": true, \"fontOpacity\": 1});\n\tviewer_1758594227135595.addLabel(\"24\",{\"position\": {\"x\": 4.581492, \"y\": 0.655694, \"z\": -1.431156}, \"backgroundColor\": \"black\", \"fontColor\": \"white\", \"fontSize\": 13, \"showBackground\": true, \"fontOpacity\": 1});\n\tviewer_1758594227135595.addLabel(\"25\",{\"position\": {\"x\": 4.553068, \"y\": -0.938631, \"z\": 1.200213}, \"backgroundColor\": \"black\", \"fontColor\": \"white\", \"fontSize\": 13, \"showBackground\": true, \"fontOpacity\": 1});\n\tviewer_1758594227135595.addLabel(\"26\",{\"position\": {\"x\": 4.491791, \"y\": -1.648804, \"z\": -0.400079}, \"backgroundColor\": \"black\", \"fontColor\": \"white\", \"fontSize\": 13, \"showBackground\": true, \"fontOpacity\": 1});\n\tviewer_1758594227135595.addLabel(\"27\",{\"position\": {\"x\": 2.612065, \"y\": 0.305215, \"z\": 2.125066}, \"backgroundColor\": \"black\", \"fontColor\": \"white\", \"fontSize\": 13, \"showBackground\": true, \"fontOpacity\": 1});\n\tviewer_1758594227135595.addLabel(\"28\",{\"position\": {\"x\": 0.16439, \"y\": 0.581072, \"z\": 2.093105}, \"backgroundColor\": \"black\", \"fontColor\": \"white\", \"fontSize\": 13, \"showBackground\": true, \"fontOpacity\": 1});\n\tviewer_1758594227135595.addLabel(\"29\",{\"position\": {\"x\": 0.013697, \"y\": -1.165407, \"z\": -1.842385}, \"backgroundColor\": \"black\", \"fontColor\": \"white\", \"fontSize\": 13, \"showBackground\": true, \"fontOpacity\": 1});\n\tviewer_1758594227135595.addLabel(\"30\",{\"position\": {\"x\": 2.461163, \"y\": -1.443682, \"z\": -1.815874}, \"backgroundColor\": \"black\", \"fontColor\": \"white\", \"fontSize\": 13, \"showBackground\": true, \"fontOpacity\": 1});\n\tviewer_1758594227135595.addLabel(\"31\",{\"position\": {\"x\": -4.521163, \"y\": -1.753266, \"z\": 0.950283}, \"backgroundColor\": \"black\", \"fontColor\": \"white\", \"fontSize\": 13, \"showBackground\": true, \"fontOpacity\": 1});\n\tviewer_1758594227135595.addLabel(\"32\",{\"position\": {\"x\": -7.966018, \"y\": 0.628972, \"z\": 0.025014}, \"backgroundColor\": \"black\", \"fontColor\": \"white\", \"fontSize\": 13, \"showBackground\": true, \"fontOpacity\": 1});\n\tviewer_1758594227135595.addLabel(\"33\",{\"position\": {\"x\": -4.049176, \"y\": 2.16646, \"z\": -0.807256}, \"backgroundColor\": \"black\", \"fontColor\": \"white\", \"fontSize\": 13, \"showBackground\": true, \"fontOpacity\": 1});\n\tviewer_1758594227135595.setStyle({\"stick\": {}, \"sphere\": {\"scale\": 0.3}});\n\tviewer_1758594227135595.zoomTo();\nviewer_1758594227135595.render();\n});\n</script>",
      "text/html": [
       "<div id=\"3dmolviewer_1758594227135595\"  style=\"position: relative; width: 800px; height: 400px;\">\n",
       "        <p id=\"3dmolwarning_1758594227135595\" style=\"background-color:#ffcccc;color:black\">3Dmol.js failed to load for some reason.  Please check your browser console for error messages.<br></p>\n",
       "        </div>\n",
       "<script>\n",
       "\n",
       "var loadScriptAsync = function(uri){\n",
       "  return new Promise((resolve, reject) => {\n",
       "    //this is to ignore the existence of requirejs amd\n",
       "    var savedexports, savedmodule;\n",
       "    if (typeof exports !== 'undefined') savedexports = exports;\n",
       "    else exports = {}\n",
       "    if (typeof module !== 'undefined') savedmodule = module;\n",
       "    else module = {}\n",
       "\n",
       "    var tag = document.createElement('script');\n",
       "    tag.src = uri;\n",
       "    tag.async = true;\n",
       "    tag.onload = () => {\n",
       "        exports = savedexports;\n",
       "        module = savedmodule;\n",
       "        resolve();\n",
       "    };\n",
       "  var firstScriptTag = document.getElementsByTagName('script')[0];\n",
       "  firstScriptTag.parentNode.insertBefore(tag, firstScriptTag);\n",
       "});\n",
       "};\n",
       "\n",
       "if(typeof $3Dmolpromise === 'undefined') {\n",
       "$3Dmolpromise = null;\n",
       "  $3Dmolpromise = loadScriptAsync('https://cdn.jsdelivr.net/npm/3dmol@2.5.2/build/3Dmol-min.js');\n",
       "}\n",
       "\n",
       "var viewer_1758594227135595 = null;\n",
       "var warn = document.getElementById(\"3dmolwarning_1758594227135595\");\n",
       "if(warn) {\n",
       "    warn.parentNode.removeChild(warn);\n",
       "}\n",
       "$3Dmolpromise.then(function() {\n",
       "viewer_1758594227135595 = $3Dmol.createViewer(document.getElementById(\"3dmolviewer_1758594227135595\"),{backgroundColor:\"white\"});\n",
       "viewer_1758594227135595.zoomTo();\n",
       "\tviewer_1758594227135595.addModel(\"\\n     RDKit          3D\\n\\n 33 34  0  0  0  0  0  0  0  0999 V2000\\n    6.4253    0.3152   -0.3868 C   0  0  0  0  0  0  0  0  0  0  0  0\\n    4.9137    0.4778   -0.4011 C   0  0  0  0  0  0  0  0  0  0  0  0\\n    4.2141   -0.7548    0.1727 C   0  0  0  0  0  0  0  0  0  0  0  0\\n    2.7135   -0.5997    0.1614 C   0  0  0  0  0  0  0  0  0  0  0  0\\n    2.0507   -0.0242    1.2535 C   0  0  0  0  0  0  0  0  0  0  0  0\\n    0.6626    0.1344    1.2361 C   0  0  0  0  0  0  0  0  0  0  0  0\\n   -0.0748   -0.2765    0.1247 C   0  0  0  0  0  0  0  0  0  0  0  0\\n    0.5781   -0.8447   -0.9702 C   0  0  0  0  0  0  0  0  0  0  0  0\\n    1.9662   -1.0035   -0.9530 C   0  0  0  0  0  0  0  0  0  0  0  0\\n   -1.4956   -0.1135    0.1067 C   0  0  0  0  0  0  0  0  0  0  0  0\\n   -2.6890    0.0234    0.0917 C   0  0  0  0  0  0  0  0  0  0  0  0\\n   -4.1091    0.1864    0.0737 C   0  0  0  0  0  0  0  0  0  0  0  0\\n   -4.9360   -0.8299    0.5564 C   0  0  0  0  0  0  0  0  0  0  0  0\\n   -6.3174   -0.6584    0.5332 C   0  0  0  0  0  0  0  0  0  0  0  0\\n   -7.1084   -1.6348    0.9968 F   0  0  0  0  0  0  0  0  0  0  0  0\\n   -6.8897    0.5055    0.0386 C   0  0  0  0  0  0  0  0  0  0  0  0\\n   -6.0566    1.5081   -0.4382 C   0  0  0  0  0  0  0  0  0  0  0  0\\n   -6.5941    2.6369   -0.9186 F   0  0  0  0  0  0  0  0  0  0  0  0\\n   -4.6720    1.3622   -0.4265 C   0  0  0  0  0  0  0  0  0  0  0  0\\n    6.9064    1.2068   -0.8009 H   0  0  0  0  0  0  0  0  0  0  0  0\\n    6.7948    0.1728    0.6338 H   0  0  0  0  0  0  0  0  0  0  0  0\\n    6.7327   -0.5467   -0.9876 H   0  0  0  0  0  0  0  0  0  0  0  0\\n    4.6431    1.3695    0.1774 H   0  0  0  0  0  0  0  0  0  0  0  0\\n    4.5815    0.6557   -1.4312 H   0  0  0  0  0  0  0  0  0  0  0  0\\n    4.5531   -0.9386    1.2002 H   0  0  0  0  0  0  0  0  0  0  0  0\\n    4.4918   -1.6488   -0.4001 H   0  0  0  0  0  0  0  0  0  0  0  0\\n    2.6121    0.3052    2.1251 H   0  0  0  0  0  0  0  0  0  0  0  0\\n    0.1644    0.5811    2.0931 H   0  0  0  0  0  0  0  0  0  0  0  0\\n    0.0137   -1.1654   -1.8424 H   0  0  0  0  0  0  0  0  0  0  0  0\\n    2.4612   -1.4437   -1.8159 H   0  0  0  0  0  0  0  0  0  0  0  0\\n   -4.5212   -1.7533    0.9503 H   0  0  0  0  0  0  0  0  0  0  0  0\\n   -7.9660    0.6290    0.0250 H   0  0  0  0  0  0  0  0  0  0  0  0\\n   -4.0492    2.1665   -0.8073 H   0  0  0  0  0  0  0  0  0  0  0  0\\n  2  1  1  0\\n  3  2  1  0\\n  4  3  1  0\\n  5  4  2  0\\n  6  5  1  0\\n  7  6  2  0\\n  8  7  1  0\\n  9  8  2  0\\n  9  4  1  0\\n 10  7  1  0\\n 11 10  3  0\\n 12 11  1  0\\n 13 12  2  0\\n 14 13  1  0\\n 15 14  1  0\\n 16 14  2  0\\n 17 16  1  0\\n 18 17  1  0\\n 19 17  2  0\\n 19 12  1  0\\n 20  1  1  0\\n 21  1  1  0\\n 22  1  1  0\\n 23  2  1  0\\n 24  2  1  0\\n 25  3  1  0\\n 26  3  1  0\\n 27  5  1  0\\n 28  6  1  0\\n 29  8  1  0\\n 30  9  1  0\\n 31 13  1  0\\n 32 16  1  0\\n 33 19  1  0\\nM  END\\n\",\"mol\");\n",
       "\tviewer_1758594227135595.addLabel(\"1\",{\"position\": {\"x\": 6.425327, \"y\": 0.315181, \"z\": -0.386787}, \"backgroundColor\": \"black\", \"fontColor\": \"white\", \"fontSize\": 13, \"showBackground\": true, \"fontOpacity\": 1});\n",
       "\tviewer_1758594227135595.addLabel(\"2\",{\"position\": {\"x\": 4.913696, \"y\": 0.477847, \"z\": -0.401095}, \"backgroundColor\": \"black\", \"fontColor\": \"white\", \"fontSize\": 13, \"showBackground\": true, \"fontOpacity\": 1});\n",
       "\tviewer_1758594227135595.addLabel(\"3\",{\"position\": {\"x\": 4.214117, \"y\": -0.754788, \"z\": 0.172708}, \"backgroundColor\": \"black\", \"fontColor\": \"white\", \"fontSize\": 13, \"showBackground\": true, \"fontOpacity\": 1});\n",
       "\tviewer_1758594227135595.addLabel(\"4\",{\"position\": {\"x\": 2.713547, \"y\": -0.599731, \"z\": 0.161355}, \"backgroundColor\": \"black\", \"fontColor\": \"white\", \"fontSize\": 13, \"showBackground\": true, \"fontOpacity\": 1});\n",
       "\tviewer_1758594227135595.addLabel(\"5\",{\"position\": {\"x\": 2.050702, \"y\": -0.024229, \"z\": 1.253519}, \"backgroundColor\": \"black\", \"fontColor\": \"white\", \"fontSize\": 13, \"showBackground\": true, \"fontOpacity\": 1});\n",
       "\tviewer_1758594227135595.addLabel(\"6\",{\"position\": {\"x\": 0.662577, \"y\": 0.134441, \"z\": 1.236095}, \"backgroundColor\": \"black\", \"fontColor\": \"white\", \"fontSize\": 13, \"showBackground\": true, \"fontOpacity\": 1});\n",
       "\tviewer_1758594227135595.addLabel(\"7\",{\"position\": {\"x\": -0.074812, \"y\": -0.2765, \"z\": 0.124681}, \"backgroundColor\": \"black\", \"fontColor\": \"white\", \"fontSize\": 13, \"showBackground\": true, \"fontOpacity\": 1});\n",
       "\tviewer_1758594227135595.addLabel(\"8\",{\"position\": {\"x\": 0.578096, \"y\": -0.84466, \"z\": -0.970198}, \"backgroundColor\": \"black\", \"fontColor\": \"white\", \"fontSize\": 13, \"showBackground\": true, \"fontOpacity\": 1});\n",
       "\tviewer_1758594227135595.addLabel(\"9\",{\"position\": {\"x\": 1.96621, \"y\": -1.003451, \"z\": -0.953045}, \"backgroundColor\": \"black\", \"fontColor\": \"white\", \"fontSize\": 13, \"showBackground\": true, \"fontOpacity\": 1});\n",
       "\tviewer_1758594227135595.addLabel(\"10\",{\"position\": {\"x\": -1.495558, \"y\": -0.113503, \"z\": 0.106748}, \"backgroundColor\": \"black\", \"fontColor\": \"white\", \"fontSize\": 13, \"showBackground\": true, \"fontOpacity\": 1});\n",
       "\tviewer_1758594227135595.addLabel(\"11\",{\"position\": {\"x\": -2.688987, \"y\": 0.023436, \"z\": 0.091676}, \"backgroundColor\": \"black\", \"fontColor\": \"white\", \"fontSize\": 13, \"showBackground\": true, \"fontOpacity\": 1});\n",
       "\tviewer_1758594227135595.addLabel(\"12\",{\"position\": {\"x\": -4.10909, \"y\": 0.186392, \"z\": 0.073737}, \"backgroundColor\": \"black\", \"fontColor\": \"white\", \"fontSize\": 13, \"showBackground\": true, \"fontOpacity\": 1});\n",
       "\tviewer_1758594227135595.addLabel(\"13\",{\"position\": {\"x\": -4.935973, \"y\": -0.829935, \"z\": 0.556417}, \"backgroundColor\": \"black\", \"fontColor\": \"white\", \"fontSize\": 13, \"showBackground\": true, \"fontOpacity\": 1});\n",
       "\tviewer_1758594227135595.addLabel(\"14\",{\"position\": {\"x\": -6.317443, \"y\": -0.658395, \"z\": 0.53319}, \"backgroundColor\": \"black\", \"fontColor\": \"white\", \"fontSize\": 13, \"showBackground\": true, \"fontOpacity\": 1});\n",
       "\tviewer_1758594227135595.addLabel(\"15\",{\"position\": {\"x\": -7.108421, \"y\": -1.634768, \"z\": 0.99677}, \"backgroundColor\": \"black\", \"fontColor\": \"white\", \"fontSize\": 13, \"showBackground\": true, \"fontOpacity\": 1});\n",
       "\tviewer_1758594227135595.addLabel(\"16\",{\"position\": {\"x\": -6.889748, \"y\": 0.505472, \"z\": 0.03861}, \"backgroundColor\": \"black\", \"fontColor\": \"white\", \"fontSize\": 13, \"showBackground\": true, \"fontOpacity\": 1});\n",
       "\tviewer_1758594227135595.addLabel(\"17\",{\"position\": {\"x\": -6.056572, \"y\": 1.508059, \"z\": -0.438214}, \"backgroundColor\": \"black\", \"fontColor\": \"white\", \"fontSize\": 13, \"showBackground\": true, \"fontOpacity\": 1});\n",
       "\tviewer_1758594227135595.addLabel(\"18\",{\"position\": {\"x\": -6.594052, \"y\": 2.636876, \"z\": -0.918574}, \"backgroundColor\": \"black\", \"fontColor\": \"white\", \"fontSize\": 13, \"showBackground\": true, \"fontOpacity\": 1});\n",
       "\tviewer_1758594227135595.addLabel(\"19\",{\"position\": {\"x\": -4.672009, \"y\": 1.362198, \"z\": -0.426499}, \"backgroundColor\": \"black\", \"fontColor\": \"white\", \"fontSize\": 13, \"showBackground\": true, \"fontOpacity\": 1});\n",
       "\tviewer_1758594227135595.addLabel(\"20\",{\"position\": {\"x\": 6.906425, \"y\": 1.206796, \"z\": -0.800887}, \"backgroundColor\": \"black\", \"fontColor\": \"white\", \"fontSize\": 13, \"showBackground\": true, \"fontOpacity\": 1});\n",
       "\tviewer_1758594227135595.addLabel(\"21\",{\"position\": {\"x\": 6.794829, \"y\": 0.172808, \"z\": 0.633759}, \"backgroundColor\": \"black\", \"fontColor\": \"white\", \"fontSize\": 13, \"showBackground\": true, \"fontOpacity\": 1});\n",
       "\tviewer_1758594227135595.addLabel(\"22\",{\"position\": {\"x\": 6.732748, \"y\": -0.546707, \"z\": -0.987586}, \"backgroundColor\": \"black\", \"fontColor\": \"white\", \"fontSize\": 13, \"showBackground\": true, \"fontOpacity\": 1});\n",
       "\tviewer_1758594227135595.addLabel(\"23\",{\"position\": {\"x\": 4.643084, \"y\": 1.36954, \"z\": 0.17741}, \"backgroundColor\": \"black\", \"fontColor\": \"white\", \"fontSize\": 13, \"showBackground\": true, \"fontOpacity\": 1});\n",
       "\tviewer_1758594227135595.addLabel(\"24\",{\"position\": {\"x\": 4.581492, \"y\": 0.655694, \"z\": -1.431156}, \"backgroundColor\": \"black\", \"fontColor\": \"white\", \"fontSize\": 13, \"showBackground\": true, \"fontOpacity\": 1});\n",
       "\tviewer_1758594227135595.addLabel(\"25\",{\"position\": {\"x\": 4.553068, \"y\": -0.938631, \"z\": 1.200213}, \"backgroundColor\": \"black\", \"fontColor\": \"white\", \"fontSize\": 13, \"showBackground\": true, \"fontOpacity\": 1});\n",
       "\tviewer_1758594227135595.addLabel(\"26\",{\"position\": {\"x\": 4.491791, \"y\": -1.648804, \"z\": -0.400079}, \"backgroundColor\": \"black\", \"fontColor\": \"white\", \"fontSize\": 13, \"showBackground\": true, \"fontOpacity\": 1});\n",
       "\tviewer_1758594227135595.addLabel(\"27\",{\"position\": {\"x\": 2.612065, \"y\": 0.305215, \"z\": 2.125066}, \"backgroundColor\": \"black\", \"fontColor\": \"white\", \"fontSize\": 13, \"showBackground\": true, \"fontOpacity\": 1});\n",
       "\tviewer_1758594227135595.addLabel(\"28\",{\"position\": {\"x\": 0.16439, \"y\": 0.581072, \"z\": 2.093105}, \"backgroundColor\": \"black\", \"fontColor\": \"white\", \"fontSize\": 13, \"showBackground\": true, \"fontOpacity\": 1});\n",
       "\tviewer_1758594227135595.addLabel(\"29\",{\"position\": {\"x\": 0.013697, \"y\": -1.165407, \"z\": -1.842385}, \"backgroundColor\": \"black\", \"fontColor\": \"white\", \"fontSize\": 13, \"showBackground\": true, \"fontOpacity\": 1});\n",
       "\tviewer_1758594227135595.addLabel(\"30\",{\"position\": {\"x\": 2.461163, \"y\": -1.443682, \"z\": -1.815874}, \"backgroundColor\": \"black\", \"fontColor\": \"white\", \"fontSize\": 13, \"showBackground\": true, \"fontOpacity\": 1});\n",
       "\tviewer_1758594227135595.addLabel(\"31\",{\"position\": {\"x\": -4.521163, \"y\": -1.753266, \"z\": 0.950283}, \"backgroundColor\": \"black\", \"fontColor\": \"white\", \"fontSize\": 13, \"showBackground\": true, \"fontOpacity\": 1});\n",
       "\tviewer_1758594227135595.addLabel(\"32\",{\"position\": {\"x\": -7.966018, \"y\": 0.628972, \"z\": 0.025014}, \"backgroundColor\": \"black\", \"fontColor\": \"white\", \"fontSize\": 13, \"showBackground\": true, \"fontOpacity\": 1});\n",
       "\tviewer_1758594227135595.addLabel(\"33\",{\"position\": {\"x\": -4.049176, \"y\": 2.16646, \"z\": -0.807256}, \"backgroundColor\": \"black\", \"fontColor\": \"white\", \"fontSize\": 13, \"showBackground\": true, \"fontOpacity\": 1});\n",
       "\tviewer_1758594227135595.setStyle({\"stick\": {}, \"sphere\": {\"scale\": 0.3}});\n",
       "\tviewer_1758594227135595.zoomTo();\n",
       "viewer_1758594227135595.render();\n",
       "});\n",
       "</script>"
      ]
     },
     "metadata": {},
     "output_type": "display_data"
    }
   ],
   "source": [
    "xyz_view('test.xyz')"
   ]
  },
  {
   "cell_type": "code",
   "execution_count": null,
   "id": "a2afed86-0302-449d-9e7f-a6521c943d7c",
   "metadata": {},
   "outputs": [],
   "source": []
  }
 ],
 "metadata": {
  "kernelspec": {
   "display_name": "Python 3 (ipykernel)",
   "language": "python",
   "name": "python3"
  },
  "language_info": {
   "codemirror_mode": {
    "name": "ipython",
    "version": 3
   },
   "file_extension": ".py",
   "mimetype": "text/x-python",
   "name": "python",
   "nbconvert_exporter": "python",
   "pygments_lexer": "ipython3",
   "version": "3.13.7"
  }
 },
 "nbformat": 4,
 "nbformat_minor": 5
}
